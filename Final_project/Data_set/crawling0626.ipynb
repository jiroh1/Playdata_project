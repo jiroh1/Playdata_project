{
 "cells": [
  {
   "cell_type": "code",
   "execution_count": 1,
   "id": "0d107b45-a705-40bb-93d2-ff6f35cf0c82",
   "metadata": {},
   "outputs": [],
   "source": [
    "import urllib\n",
    "from selenium import webdriver\n",
    "import time\n",
    "import requests\n",
    "from webdriver_manager.chrome import ChromeDriverManager\n"
   ]
  },
  {
   "cell_type": "code",
   "execution_count": 11,
   "id": "79b4c877-f482-4ffc-a098-bee482479824",
   "metadata": {
    "tags": []
   },
   "outputs": [
    {
     "name": "stderr",
     "output_type": "stream",
     "text": [
      "\n",
      "\n",
      "====== WebDriver manager ======\n",
      "Current google-chrome version is 92.0.4515\n",
      "Get LATEST driver version for 92.0.4515\n",
      "Driver [C:\\Users\\Playdata\\.wdm\\drivers\\chromedriver\\win32\\92.0.4515.107\\chromedriver.exe] found in cache\n"
     ]
    }
   ],
   "source": [
    "driver = webdriver.Chrome(ChromeDriverManager().install())\n",
    "url = 'https://www.instagram.com'\n",
    "driver.get(url)\n",
    "time.sleep(3)\n",
    "driver.find_element_by_xpath('//*[@id=\"loginForm\"]/div/div[1]/div/label/input').send_keys('DataPlayer2021')\n",
    "driver.find_element_by_xpath('//*[@id=\"loginForm\"]/div/div[2]/div/label/input').send_keys('mentoring2021')\n",
    "time.sleep(3)\n",
    "driver.find_element_by_xpath('//*[@id=\"loginForm\"]/div/div[3]/button').click()\n",
    "time.sleep(3)\n",
    "driver.find_element_by_xpath('//*[@id=\"react-root\"]/section/main/div/div/div/div/button').click()\n",
    "url = 'https://www.instagram.com/explore/tags/남친룩/'\n",
    "driver.get(url)\n",
    "time.sleep(4)\n"
   ]
  },
  {
   "cell_type": "code",
   "execution_count": 7,
   "id": "a83be5db-aa81-4567-8f41-fd576357e2e5",
   "metadata": {},
   "outputs": [],
   "source": [
    "visited=set()#내가 이전에 가져온 URL들"
   ]
  },
  {
   "cell_type": "code",
   "execution_count": 12,
   "id": "091b8436-535d-41b5-963b-b7b0501950bc",
   "metadata": {},
   "outputs": [],
   "source": [
    "for _ in range(1000):\n",
    "    #img 소스 가져오기\n",
    "    insta = driver.find_elements_by_xpath('//div[@class=\"KL4Bh\"]/img') #global 적으로 영향을 줄지 아닌지확인 해서위치 확인 \n",
    "    imgs =set([ele.get_attribute('src') for ele in insta])\n",
    "    imgs -= visited # 신규만 있음\n",
    "    for img in imgs :\n",
    "        urllib.request.urlretrieve(img,\"./img/img3\"+str(len(visited))+\".jpg\")\n",
    "        visited.add(img)\n",
    "\n",
    "    #curr_height = driver.execute_script(\"return document.body.scrollHeight\")\n",
    "    driver.execute_script(\"window.scrollTo(document.body.scrollHeight,document.body.scrollHeight*0.9)\") #(1-x) 위치만큼 올라가기  \n",
    "    time.sleep(1)\n",
    "    driver.execute_script(\"window.scrollTo(0,document.body.scrollHeight)\")\n",
    "    time.sleep(1)\n"
   ]
  },
  {
   "cell_type": "code",
   "execution_count": 9,
   "id": "20d55a57-2a8b-4b32-9c73-54e4f38baf3b",
   "metadata": {},
   "outputs": [
    {
     "data": {
      "text/plain": [
       "1176"
      ]
     },
     "execution_count": 9,
     "metadata": {},
     "output_type": "execute_result"
    }
   ],
   "source": [
    "len(visited)"
   ]
  }
 ],
 "metadata": {
  "kernelspec": {
   "display_name": "Python 3 (ipykernel)",
   "language": "python",
   "name": "python3"
  },
  "language_info": {
   "codemirror_mode": {
    "name": "ipython",
    "version": 3
   },
   "file_extension": ".py",
   "mimetype": "text/x-python",
   "name": "python",
   "nbconvert_exporter": "python",
   "pygments_lexer": "ipython3",
   "version": "3.9.4"
  }
 },
 "nbformat": 4,
 "nbformat_minor": 5
}
