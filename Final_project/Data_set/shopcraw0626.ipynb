{
 "cells": [
  {
   "cell_type": "code",
   "execution_count": 1,
   "id": "351edf2d-9316-4390-a056-098ff9b4a044",
   "metadata": {},
   "outputs": [],
   "source": [
    "import urllib\n",
    "from selenium import webdriver\n",
    "import time\n",
    "from webdriver_manager.chrome import ChromeDriverManager"
   ]
  },
  {
   "cell_type": "code",
   "execution_count": 5,
   "id": "13d793be-f8a7-45bd-b2a3-17368021f9ed",
   "metadata": {},
   "outputs": [
    {
     "name": "stderr",
     "output_type": "stream",
     "text": [
      "\n",
      "\n",
      "====== WebDriver manager ======\n",
      "Current google-chrome version is 91.0.4472\n",
      "Get LATEST driver version for 91.0.4472\n",
      "Driver [C:\\Users\\Playdata\\.wdm\\drivers\\chromedriver\\win32\\91.0.4472.101\\chromedriver.exe] found in cache\n"
     ]
    }
   ],
   "source": [
    "driver = webdriver.Chrome(ChromeDriverManager().install())\n",
    "url_for_pants =\"https://search.musinsa.com/ranking/best?period=day&age=ALL&mainCategory=003&subCategory=&leafCategory=&price=&golf=false&newProduct=false&exclusive=false&discount=false&soldOut=false&page=1&viewType=small&device=&priceMin=&priceMax=\"\n",
    "driver.get(url_for_pants)\n",
    "time.sleep(1)\n"
   ]
  },
  {
   "cell_type": "code",
   "execution_count": 17,
   "id": "5678b1ac-fae5-48ec-aa00-411546204737",
   "metadata": {},
   "outputs": [],
   "source": [
    "visited=set()"
   ]
  },
  {
   "cell_type": "code",
   "execution_count": 18,
   "id": "81a58647-5865-4183-89d6-94c2a626a372",
   "metadata": {},
   "outputs": [],
   "source": [
    "for _ in range(2):\n",
    "    #img 소스\n",
    "    musinsa = driver.find_elements_by_xpath('/html/body/div[3]/div[3]/div/div/div[2]/div[2]/ul/li/div/div[1]/a/img')\n",
    "    imgs = set([ele.get_attribute('src') for ele in musinsa])\n",
    "\n",
    "    visited=set()\n",
    "    \n",
    "    for img in imgs:\n",
    "        urllib.request.urlretrieve(img,\".img_mu\"+str(len(visited))+\".jpg\")\n",
    "        visited.add(img)\n",
    "        \n",
    "    driver.execute_script(\"window.scrollTo(document.body.scrollHeight,document.body.scrollHeight*0.9)\")\n",
    "    time.sleep(0.1)\n",
    "    driver.execute_script(\"window.scrollTo(0,document.body.scrollHeight)\")\n",
    "    time.sleep(0.1)"
   ]
  },
  {
   "cell_type": "code",
   "execution_count": 20,
   "id": "e75b5275-8d72-4c19-ab40-db928740ec3c",
   "metadata": {},
   "outputs": [
    {
     "name": "stdout",
     "output_type": "stream",
     "text": [
      "https://image.msscdn.net/images/goods_img/20200311/1344489/1344489_4_125.jpg\n"
     ]
    }
   ],
   "source": [
    "print(img)"
   ]
  }
 ],
 "metadata": {
  "kernelspec": {
   "display_name": "Python 3 (ipykernel)",
   "language": "python",
   "name": "python3"
  },
  "language_info": {
   "codemirror_mode": {
    "name": "ipython",
    "version": 3
   },
   "file_extension": ".py",
   "mimetype": "text/x-python",
   "name": "python",
   "nbconvert_exporter": "python",
   "pygments_lexer": "ipython3",
   "version": "3.9.4"
  }
 },
 "nbformat": 4,
 "nbformat_minor": 5
}
