{
 "cells": [
  {
   "cell_type": "code",
   "execution_count": 1,
   "id": "a4a89828-c964-4e43-a9e8-53e9e4c3ddf1",
   "metadata": {},
   "outputs": [],
   "source": [
    "import urllib\n",
    "from selenium import webdriver\n",
    "import time\n",
    "import requests\n",
    "import shutil\n",
    "from webdriver_manager.chrome import ChromeDriverManager"
   ]
  },
  {
   "cell_type": "code",
   "execution_count": 7,
   "id": "351ece6d-5a0c-45bd-87d7-8a975ccdb48c",
   "metadata": {},
   "outputs": [
    {
     "name": "stderr",
     "output_type": "stream",
     "text": [
      "\n",
      "\n",
      "====== WebDriver manager ======\n",
      "Current google-chrome version is 91.0.4472\n",
      "Get LATEST driver version for 91.0.4472\n",
      "Driver [C:\\Users\\Playdata\\.wdm\\drivers\\chromedriver\\win32\\91.0.4472.101\\chromedriver.exe] found in cache\n"
     ]
    }
   ],
   "source": [
    "driver = webdriver.Chrome(ChromeDriverManager().install())\n",
    "url = 'https://www.melon.com/chart/day/index.htm'\n",
    "driver.get(url)\n",
    "likes = driver.find_elements_by_xpath('//*[@id=\"lst50\"]/td[8]/div/button/span[2]')\n",
    "likes = [ele.text for ele in likes]"
   ]
  },
  {
   "cell_type": "code",
   "execution_count": 8,
   "id": "903051db-8676-45ba-9dc6-d88bcf78ee93",
   "metadata": {},
   "outputs": [
    {
     "name": "stdout",
     "output_type": "stream",
     "text": [
      "['193,965', '117,374', '96,885', '113,333', '165,562', '34,758', '275,211', '197,011', '96,422', '287,579', '117,283', '409,847', '35,616', '45,933', '65,200', '104,936', '90,812', '82,455', '154,068', '86,148', '79,024', '51,318', '77,192', '91,818', '153,359', '172,064', '92,945', '64,276', '139,997', '190,324', '127,368', '360,125', '183,837', '192,990', '309,244', '350,606', '420,621', '44,113', '184,709', '81,328', '13,900', '102,888', '46,894', '214,784', '138,464', '218,515', '52,816', '288,412', '361,966', '538,539']\n"
     ]
    }
   ],
   "source": [
    "print(likes)"
   ]
  },
  {
   "cell_type": "code",
   "execution_count": 9,
   "id": "14b36478-7e3e-4ff8-a561-5b7e141aeecf",
   "metadata": {},
   "outputs": [
    {
     "ename": "AttributeError",
     "evalue": "'str' object has no attribute 'text'",
     "output_type": "error",
     "traceback": [
      "\u001b[1;31m---------------------------------------------------------------------------\u001b[0m",
      "\u001b[1;31mAttributeError\u001b[0m                            Traceback (most recent call last)",
      "\u001b[1;32m<ipython-input-9-9e72810b8767>\u001b[0m in \u001b[0;36m<module>\u001b[1;34m\u001b[0m\n\u001b[1;32m----> 1\u001b[1;33m \u001b[0mlikes\u001b[0m\u001b[1;33m[\u001b[0m\u001b[1;36m0\u001b[0m\u001b[1;33m]\u001b[0m\u001b[1;33m.\u001b[0m\u001b[0mtext\u001b[0m\u001b[1;33m\u001b[0m\u001b[1;33m\u001b[0m\u001b[0m\n\u001b[0m",
      "\u001b[1;31mAttributeError\u001b[0m: 'str' object has no attribute 'text'"
     ]
    }
   ],
   "source": [
    "likes[0].text"
   ]
  },
  {
   "cell_type": "code",
   "execution_count": null,
   "id": "327316f9-3bc2-4e99-a24a-be5028ee0548",
   "metadata": {},
   "outputs": [],
   "source": []
  }
 ],
 "metadata": {
  "kernelspec": {
   "display_name": "Python 3",
   "language": "python",
   "name": "python3"
  },
  "language_info": {
   "codemirror_mode": {
    "name": "ipython",
    "version": 3
   },
   "file_extension": ".py",
   "mimetype": "text/x-python",
   "name": "python",
   "nbconvert_exporter": "python",
   "pygments_lexer": "ipython3",
   "version": "3.8.8"
  }
 },
 "nbformat": 4,
 "nbformat_minor": 5
}
