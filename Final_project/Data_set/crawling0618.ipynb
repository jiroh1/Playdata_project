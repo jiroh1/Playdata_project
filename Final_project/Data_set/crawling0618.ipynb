{
 "cells": [
  {
   "cell_type": "code",
   "execution_count": 2,
   "id": "0d107b45-a705-40bb-93d2-ff6f35cf0c82",
   "metadata": {},
   "outputs": [],
   "source": [
    "import urllib\n",
    "from selenium import webdriver\n",
    "import time\n",
    "import requests\n",
    "import shutil\n",
    "from webdriver_manager.chrome import ChromeDriverManager\n"
   ]
  },
  {
   "cell_type": "code",
   "execution_count": 3,
   "id": "79b4c877-f482-4ffc-a098-bee482479824",
   "metadata": {
    "tags": []
   },
   "outputs": [
    {
     "name": "stderr",
     "output_type": "stream",
     "text": [
      "\n",
      "\n",
      "====== WebDriver manager ======\n",
      "Current google-chrome version is 91.0.4472\n",
      "Get LATEST driver version for 91.0.4472\n",
      "Driver [C:\\Users\\Playdata\\.wdm\\drivers\\chromedriver\\win32\\91.0.4472.101\\chromedriver.exe] found in cache\n"
     ]
    }
   ],
   "source": [
    "driver = webdriver.Chrome(ChromeDriverManager().install())\n",
    "url = 'https://www.instagram.com'\n",
    "driver.get(url)\n",
    "time.sleep(3)\n",
    "driver.find_element_by_xpath('//*[@id=\"loginForm\"]/div/div[1]/div/label/input').send_keys('DataPlayer2021')\n",
    "driver.find_element_by_xpath('//*[@id=\"loginForm\"]/div/div[2]/div/label/input').send_keys('mentoring2021')\n",
    "time.sleep(3)\n",
    "driver.find_element_by_xpath('//*[@id=\"loginForm\"]/div/div[3]/button').click()\n",
    "time.sleep(3)\n",
    "driver.find_element_by_xpath('//*[@id=\"react-root\"]/section/main/div/div/div/div/button').click()\n",
    "url = 'https://www.instagram.com/explore/tags/남자코디/'\n",
    "driver.get(url)\n",
    "time.sleep(4)\n"
   ]
  },
  {
   "cell_type": "code",
   "execution_count": 25,
   "id": "66eb791d-c7d8-4446-91db-8fe2d4d5a124",
   "metadata": {
    "tags": []
   },
   "outputs": [],
   "source": [
    "prev_height = 0 \n",
    "for _ in range(500):\n",
    "    curr_height = driver.execute_script(\"return document.body.scrollHeight\")\n",
    "    driver.execute_script(\"window.scrollTo(document.body.scrollHeight,document.body.scrollHeight*0.9)\") #(1-x) 위치만큼 올라가기  \n",
    "    driver.execute_script(\"window.scrollTo(0,document.body.scrollHeight)\")\n",
    "    time.sleep(4)\n",
    "\n",
    "    if(curr_height == prev_height):\n",
    "        prev_height = curr_height\n",
    "    "
   ]
  },
  {
   "cell_type": "code",
   "execution_count": 26,
   "id": "758909e5-a79c-4f93-87f1-a552adbb7170",
   "metadata": {},
   "outputs": [
    {
     "name": "stdout",
     "output_type": "stream",
     "text": [
      "['https://scontent-ssn1-1.cdninstagram.com/v/t51.2885-15/e35/207161726_193169362739505_4874402840626569309_n.jpg?tp=1&_nc_ht=scontent-ssn1-1.cdninstagram.com&_nc_cat=109&_nc_ohc=sjM8jEZ3Ag8AX_r2dL0&edm=AMKDjl4BAAAA&ccb=7-4&oh=e90102566cd56c2e19fea32afaadbaa4&oe=60DC2D6F&_nc_sid=1fe099&ig_cache_key=MjYwMzY3MzMyNjk1OTA0MTk5OA%3D%3D.2-ccb7-4', 'https://scontent-ssn1-1.cdninstagram.com/v/t51.2885-15/e35/206012349_989646428477295_4873249546018422962_n.jpg?tp=1&_nc_ht=scontent-ssn1-1.cdninstagram.com&_nc_cat=103&_nc_ohc=QRYo_oxcBnwAX_xwp7i&edm=AMKDjl4BAAAA&ccb=7-4&oh=e636797767d3d821e2a719157fb187ff&oe=60DC6AAF&_nc_sid=1fe099&ig_cache_key=MjYwMzIwNzQ5NTQ1OTgzNTU1OA%3D%3D.2-ccb7-4', 'https://scontent-ssn1-1.cdninstagram.com/v/t51.2885-15/e35/207491078_236094864994412_7866962445001704763_n.jpg?tp=1&_nc_ht=scontent-ssn1-1.cdninstagram.com&_nc_cat=108&_nc_ohc=3smZH3IdmwwAX-7s5sE&edm=AMKDjl4BAAAA&ccb=7-4&oh=d0983fdc5fecfec1de9e3944e32f665e&oe=60DCCF7E&_nc_sid=1fe099&ig_cache_key=MjYwMzU4NDYwMzIwMjQ0ODMwMQ%3D%3D.2-ccb7-4', 'https://scontent-ssn1-1.cdninstagram.com/v/t51.2885-15/e35/207106145_338847137763175_8780304278034268365_n.jpg?tp=1&_nc_ht=scontent-ssn1-1.cdninstagram.com&_nc_cat=107&_nc_ohc=Ebb7fZwNdL4AX_OZ43Z&edm=AMKDjl4BAAAA&ccb=7-4&oh=7b515edd31e3303af085ebe8237c7081&oe=60DDC432&_nc_sid=1fe099&ig_cache_key=MjYwMzEwMzg4MTQyMjE4MDk4MQ%3D%3D.2-ccb7-4', 'https://scontent-ssn1-1.cdninstagram.com/v/t51.2885-15/e35/207198499_2941642006081723_8644697860509328006_n.jpg?tp=1&_nc_ht=scontent-ssn1-1.cdninstagram.com&_nc_cat=107&_nc_ohc=bCdnHqsNez8AX-vRk5x&edm=AMKDjl4BAAAA&ccb=7-4&oh=73b94e698ed38b62f5a29a3a4d2f0a20&oe=60DC6321&_nc_sid=1fe099&ig_cache_key=MjYwMzYzNzYxMDQxMzE4NzM5Mg%3D%3D.2-ccb7-4', 'https://scontent-ssn1-1.cdninstagram.com/v/t51.2885-15/e35/206846268_488678745569980_6321482616678498311_n.jpg?tp=1&_nc_ht=scontent-ssn1-1.cdninstagram.com&_nc_cat=104&_nc_ohc=FFDKiAMK8pEAX-evf6f&edm=AMKDjl4BAAAA&ccb=7-4&oh=9ccbbbdc32da8855c674a0dc3674c3b1&oe=60DD3CD8&_nc_sid=1fe099&ig_cache_key=MjYwMzY0NzczODcyMDY0NjIyNA%3D%3D.2-ccb7-4', 'https://scontent-ssn1-1.cdninstagram.com/v/t51.2885-15/e35/207562630_3988749461178091_2468825436419783276_n.jpg?tp=1&_nc_ht=scontent-ssn1-1.cdninstagram.com&_nc_cat=107&_nc_ohc=DAbei7Z2G50AX84c7h_&tn=Y6BFOVD79YEPPEYF&edm=AMKDjl4BAAAA&ccb=7-4&oh=70c1b6918e75986ddb61ffa12277cbd6&oe=60DCC737&_nc_sid=1fe099&ig_cache_key=MjYwMzU4OTE2NDk5NTY1MDM1OA%3D%3D.2-ccb7-4', 'https://scontent-ssn1-1.cdninstagram.com/v/t51.2885-15/e35/206587523_495808874965209_1023105358348087615_n.jpg?tp=1&_nc_ht=scontent-ssn1-1.cdninstagram.com&_nc_cat=109&_nc_ohc=wqea-16k3kQAX9iZ0E_&edm=AMKDjl4BAAAA&ccb=7-4&oh=343761f0b86e73978348fa6123b3a1c1&oe=60DCE94E&_nc_sid=1fe099&ig_cache_key=MjYwMzc3OTk4MTIyMjI3MDEzOA%3D%3D.2-ccb7-4', 'https://scontent-ssn1-1.cdninstagram.com/v/t51.2885-15/e35/205990550_2967617566888012_89202881628463467_n.jpg?tp=1&_nc_ht=scontent-ssn1-1.cdninstagram.com&_nc_cat=104&_nc_ohc=T8VGzA5I7aAAX-M4072&edm=AMKDjl4BAAAA&ccb=7-4&oh=79ab589373a33f4fcfe1647d0f1a9020&oe=60DD2F0C&_nc_sid=1fe099&ig_cache_key=MjYwMzYxNjEyMzMxMjUyMjkzMw%3D%3D.2-ccb7-4', 'https://scontent-ssn1-1.cdninstagram.com/v/t51.2885-15/e35/207106152_939262416873759_589878684624283284_n.jpg?tp=1&_nc_ht=scontent-ssn1-1.cdninstagram.com&_nc_cat=103&_nc_ohc=SgFiCfGFvVgAX9u_6K5&edm=AMKDjl4BAAAA&ccb=7-4&oh=6e870bb5bb37fa99fcb978a1bb131819&oe=60DC4D9D&_nc_sid=1fe099&ig_cache_key=MjYwMjk3MjgxMDUwNDQwNzY0MQ%3D%3D.2-ccb7-4', 'https://scontent-ssn1-1.cdninstagram.com/v/t51.2885-15/e35/205558795_3007951319494504_3629624727486915325_n.jpg?tp=1&_nc_ht=scontent-ssn1-1.cdninstagram.com&_nc_cat=104&_nc_ohc=66zFvSWfDXEAX8rsH7B&edm=AMKDjl4BAAAA&ccb=7-4&oh=2dc018db789fcb985b74ef446d69522a&oe=60DD874B&_nc_sid=1fe099&ig_cache_key=MjYwMjk3Mjc1MDcxNjg4MjAxMw%3D%3D.2-ccb7-4', 'https://scontent-ssn1-1.cdninstagram.com/v/t51.2885-15/e35/205480402_1713991575465308_6758078039168943318_n.jpg?tp=1&_nc_ht=scontent-ssn1-1.cdninstagram.com&_nc_cat=108&_nc_ohc=29wiPc5HW0sAX8lcGeR&edm=AMKDjl4BAAAA&ccb=7-4&oh=85d3de2a1b3421768aaf12aea3b212f8&oe=60DC7475&_nc_sid=1fe099&ig_cache_key=MjYwMjk3MjE1NDk0MjU4NTE3MQ%3D%3D.2-ccb7-4', 'https://scontent-ssn1-1.cdninstagram.com/v/t51.2885-15/e35/206111642_1426376631067637_655817630763870088_n.jpg?tp=1&_nc_ht=scontent-ssn1-1.cdninstagram.com&_nc_cat=105&_nc_ohc=6Ynm_Wuk6ywAX_EXkal&edm=AMKDjl4BAAAA&ccb=7-4&oh=ba48a93c15721fd57928db014c206560&oe=60DE130D&_nc_sid=1fe099&ig_cache_key=MjYwMjk3Mjc4NjA3NjgzNjY0Mg%3D%3D.2-ccb7-4', 'https://scontent-ssn1-1.cdninstagram.com/v/t51.2885-15/e35/c158.0.404.404a/207061715_940912993143102_7510967562159377339_n.jpg?tp=1&_nc_ht=scontent-ssn1-1.cdninstagram.com&_nc_cat=106&_nc_ohc=DwN4lyKRX-UAX9-MNiI&tn=Y6BFOVD79YEPPEYF&edm=AMKDjl4BAAAA&ccb=7-4&oh=35bc767b3388657050448e7445ab334b&oe=60DD6B51&_nc_sid=1fe099&ig_cache_key=MjYwMjk3MjU3OTUxNjM2ODEzNg%3D%3D.2-ccb7-4', 'https://scontent-ssn1-1.cdninstagram.com/v/t51.2885-15/e35/207156051_1929970170512113_4855037016126324339_n.jpg?tp=1&_nc_ht=scontent-ssn1-1.cdninstagram.com&_nc_cat=101&_nc_ohc=YlZiOu7OjaMAX8_wujh&edm=AMKDjl4BAAAA&ccb=7-4&oh=4a170329d80f0742fa7c2335bd70cc55&oe=60DD939E&_nc_sid=1fe099&ig_cache_key=MjYwMjk3MjQ2ODUzNjEyNTMxNQ%3D%3D.2-ccb7-4', 'https://scontent-ssn1-1.cdninstagram.com/v/t51.2885-15/e35/204396316_916548592257046_3420337810339645648_n.jpg?tp=1&_nc_ht=scontent-ssn1-1.cdninstagram.com&_nc_cat=110&_nc_ohc=Y6m1FOMTSbIAX8J73ac&edm=AMKDjl4BAAAA&ccb=7-4&oh=88193d4528cb85b177fca92eeb2e00f2&oe=60DC9789&_nc_sid=1fe099&ig_cache_key=MjYwMjk3MjIwMDAwNTA1MzMyNw%3D%3D.2-ccb7-4', 'https://scontent-ssn1-1.cdninstagram.com/v/t51.2885-15/e35/205220670_1685365785186764_3369193536014398147_n.jpg?tp=1&_nc_ht=scontent-ssn1-1.cdninstagram.com&_nc_cat=108&_nc_ohc=lNRgSjeMuJgAX9yH7uS&edm=AMKDjl4BAAAA&ccb=7-4&oh=44e2caa4eb0029397980b1373eaac684&oe=60DDD299&_nc_sid=1fe099&ig_cache_key=MjYwMjk3MTEwOTMwMjEyMzYxMg%3D%3D.2-ccb7-4', 'https://scontent-ssn1-1.cdninstagram.com/v/t51.2885-15/e35/205477972_494594675106127_2533178865185249635_n.jpg?tp=1&_nc_ht=scontent-ssn1-1.cdninstagram.com&_nc_cat=107&_nc_ohc=m1C7kjAgup4AX91tLEy&tn=Y6BFOVD79YEPPEYF&edm=AMKDjl4BAAAA&ccb=7-4&oh=00f83772b282fff180e14c6d63c1bc1a&oe=60DC807F&_nc_sid=1fe099&ig_cache_key=MjYwMjk3MDA3NzYzNjY0ODg0NQ%3D%3D.2-ccb7-4', 'https://scontent-ssn1-1.cdninstagram.com/v/t51.2885-15/e35/206039432_2978117552507336_4924244462284661676_n.jpg?tp=1&_nc_ht=scontent-ssn1-1.cdninstagram.com&_nc_cat=108&_nc_ohc=LxyIyG4DeecAX-TGIlg&edm=AMKDjl4BAAAA&ccb=7-4&oh=cb670b491dcf83c221700f6e13718c7a&oe=60DD5A5C&_nc_sid=1fe099&ig_cache_key=MjYwMjk2OTQyMTEyODEzOTg4Nw%3D%3D.2-ccb7-4', 'https://scontent-ssn1-1.cdninstagram.com/v/t51.2885-15/e35/205385799_5743919698982820_2429734425896009311_n.jpg?tp=1&_nc_ht=scontent-ssn1-1.cdninstagram.com&_nc_cat=100&_nc_ohc=Y-rDkakaOj0AX8Tt8IU&edm=AMKDjl4BAAAA&ccb=7-4&oh=e2d8571a3281683f6933076f89e88717&oe=60DD0A16&_nc_sid=1fe099&ig_cache_key=MjYwMjk2ODY4NTU4MjUyOTIxMg%3D%3D.2-ccb7-4', 'https://scontent-ssn1-1.cdninstagram.com/v/t51.2885-15/e35/206173450_350197513183538_4572173236074406590_n.jpg?tp=1&_nc_ht=scontent-ssn1-1.cdninstagram.com&_nc_cat=102&_nc_ohc=c_3y8oS_CYkAX9Y0cql&edm=AMKDjl4BAAAA&ccb=7-4&oh=2f4bbe7e0f9758de94405f669fbf78d0&oe=60DD6785&_nc_sid=1fe099&ig_cache_key=MjYwMjk2ODY2NzUzODcxNzYyOA%3D%3D.2-ccb7-4', 'https://scontent-ssn1-1.cdninstagram.com/v/t51.2885-15/e35/206227285_169886291778187_704097467959925669_n.jpg?tp=1&_nc_ht=scontent-ssn1-1.cdninstagram.com&_nc_cat=107&_nc_ohc=0l8bbymtG18AX9OX6ET&edm=AMKDjl4BAAAA&ccb=7-4&oh=e634662f30feb1a48e53941f85292b17&oe=60DCA122&_nc_sid=1fe099&ig_cache_key=MjYwMjk2Njk1MDg3NzI1NTc2OA%3D%3D.2-ccb7-4', 'https://scontent-ssn1-1.cdninstagram.com/v/t51.2885-15/e35/205468478_965871440854051_5402152400951690184_n.jpg?tp=1&_nc_ht=scontent-ssn1-1.cdninstagram.com&_nc_cat=107&_nc_ohc=SGBL5jsaH_kAX8WTcDT&edm=AMKDjl4BAAAA&ccb=7-4&oh=80c94d72abc6c3071600bd08c65b17d7&oe=60DDEBD8&_nc_sid=1fe099&ig_cache_key=MjYwMjk2NjgxMjQzMDUxMTk5Mg%3D%3D.2-ccb7-4', 'https://scontent-ssn1-1.cdninstagram.com/v/t51.2885-15/e35/206905424_977912809624965_656628890858681053_n.jpg?tp=1&_nc_ht=scontent-ssn1-1.cdninstagram.com&_nc_cat=109&_nc_ohc=11ny21xaxeAAX9tmL1P&edm=AMKDjl4BAAAA&ccb=7-4&oh=c440ce0ae7580bb13a5a7de1f94626e5&oe=60DC8941&_nc_sid=1fe099&ig_cache_key=MjYwMjk2NjcwOTA5MzI5OTQwOQ%3D%3D.2-ccb7-4', 'https://scontent-ssn1-1.cdninstagram.com/v/t51.2885-15/e35/205526746_487760899123955_8813442267867611055_n.jpg?tp=1&_nc_ht=scontent-ssn1-1.cdninstagram.com&_nc_cat=111&_nc_ohc=tA_9Tfki_84AX9VGwPW&edm=AMKDjl4BAAAA&ccb=7-4&oh=f12e5cd76b197e477955eac438c24bfb&oe=60DCAEC6&_nc_sid=1fe099&ig_cache_key=MjYwMjk2NjY5NzMyOTc3NjcyMg%3D%3D.2-ccb7-4', 'https://scontent-ssn1-1.cdninstagram.com/v/t51.2885-15/e35/205551052_197481838958905_7431920986671435462_n.jpg?tp=1&_nc_ht=scontent-ssn1-1.cdninstagram.com&_nc_cat=101&_nc_ohc=HZrrsnGeqbsAX8tasbS&edm=AMKDjl4BAAAA&ccb=7-4&oh=9cecbbf1b924676c8b6443e7af31a09d&oe=60DCB32E&_nc_sid=1fe099&ig_cache_key=MjYwMjk2NjUyNjMwMzQ2MTYyMw%3D%3D.2-ccb7-4', 'https://scontent-ssn1-1.cdninstagram.com/v/t51.2885-15/e35/205290402_911317446264686_548053488249963830_n.jpg?tp=1&_nc_ht=scontent-ssn1-1.cdninstagram.com&_nc_cat=102&_nc_ohc=x-V0Q1ZAWEUAX_p9IQo&edm=AMKDjl4BAAAA&ccb=7-4&oh=f5d31adc771ec00ceda3c0abd6f851e1&oe=60DD1D76&_nc_sid=1fe099&ig_cache_key=MjYwMjk2NDU5MjU5NzE5ODA5NA%3D%3D.2-ccb7-4', 'https://scontent-ssn1-1.cdninstagram.com/v/t51.2885-15/e35/205611510_101592675494680_6390048392133530450_n.jpg?tp=1&_nc_ht=scontent-ssn1-1.cdninstagram.com&_nc_cat=104&_nc_ohc=Cr_ZqeI-6c4AX9QZ8fk&edm=AMKDjl4BAAAA&ccb=7-4&oh=b4bb4ebfe0c11650bc7460e8b3e92d9b&oe=60DC90FE&_nc_sid=1fe099&ig_cache_key=MjYwMjk2NDU0MzQ2MzA0MTI5Nw%3D%3D.2-ccb7-4', 'https://scontent-ssn1-1.cdninstagram.com/v/t51.2885-15/e35/206327633_328792202066794_4948760728591112876_n.jpg?tp=1&_nc_ht=scontent-ssn1-1.cdninstagram.com&_nc_cat=110&_nc_ohc=I-KiGxyMEkcAX-prKUs&edm=AMKDjl4BAAAA&ccb=7-4&oh=488695f860d522e5e604cfb214ea0927&oe=60DCBBDA&_nc_sid=1fe099&ig_cache_key=MjYwMjk2NDM0Nzc5MDQ0MDc3Ng%3D%3D.2-ccb7-4', 'https://scontent-ssn1-1.cdninstagram.com/v/t51.2885-15/e35/205290402_1049569565451731_8428544020785091475_n.jpg?tp=1&_nc_ht=scontent-ssn1-1.cdninstagram.com&_nc_cat=111&_nc_ohc=Ok6KPTxgMxsAX9HRXiH&edm=AMKDjl4BAAAA&ccb=7-4&oh=634e8eca252ba333ac0c73d926593df9&oe=60DC7E85&_nc_sid=1fe099&ig_cache_key=MjYwMjk2Mzc0MDk2MDc2OTYyNA%3D%3D.2-ccb7-4', 'https://scontent-ssn1-1.cdninstagram.com/v/t51.2885-15/e35/205474599_136875451849287_4458592423906524495_n.jpg?tp=1&_nc_ht=scontent-ssn1-1.cdninstagram.com&_nc_cat=103&_nc_ohc=mWFYiwxhKfMAX-5M4qe&edm=AMKDjl4BAAAA&ccb=7-4&oh=b75b63e4d3467057b009b8d551372566&oe=60DD65B7&_nc_sid=1fe099&ig_cache_key=MjYwMjk2MzcxNzU1NDI0MjA4Mg%3D%3D.2-ccb7-4', 'https://scontent-ssn1-1.cdninstagram.com/v/t51.2885-15/e35/205328985_348081176686005_374565020819569872_n.jpg?tp=1&_nc_ht=scontent-ssn1-1.cdninstagram.com&_nc_cat=109&_nc_ohc=CBCW6NA_SFsAX9i-KBq&edm=AMKDjl4BAAAA&ccb=7-4&oh=31ac251a65b0b52764f798f86f43b607&oe=60DD5B4C&_nc_sid=1fe099&ig_cache_key=MjYwMjk2MzYzMjg3MDczOTk5Mg%3D%3D.2-ccb7-4', 'https://scontent-ssn1-1.cdninstagram.com/v/t51.2885-15/e35/205720212_4648741151820401_2401091878515371047_n.jpg?tp=1&_nc_ht=scontent-ssn1-1.cdninstagram.com&_nc_cat=105&_nc_ohc=XiBfIt7OEnkAX9P2o4e&edm=AMKDjl4BAAAA&ccb=7-4&oh=bffe0eeeb6f730d3b5253c5ff208d5a7&oe=60DC5877&_nc_sid=1fe099&ig_cache_key=MjYwMjk2MzA0NDY5Nzk3MDg2MA%3D%3D.2-ccb7-4', 'https://scontent-ssn1-1.cdninstagram.com/v/t51.2885-15/e35/206676851_810041789886030_1720908268783969960_n.jpg?tp=1&_nc_ht=scontent-ssn1-1.cdninstagram.com&_nc_cat=106&_nc_ohc=ZaesGVvhxbIAX__pree&tn=Y6BFOVD79YEPPEYF&edm=AMKDjl4BAAAA&ccb=7-4&oh=3ec3fe4ba94841c6a8cecedb93be4557&oe=60DD1930&_nc_sid=1fe099&ig_cache_key=MjYwMjk2MjgyNjIzOTUzMjUyOA%3D%3D.2-ccb7-4', 'https://scontent-ssn1-1.cdninstagram.com/v/t51.2885-15/e35/205482868_528781551501009_8990594801533865701_n.jpg?tp=1&_nc_ht=scontent-ssn1-1.cdninstagram.com&_nc_cat=109&_nc_ohc=2arOoWx1Ey8AX8O3vvV&edm=AMKDjl4BAAAA&ccb=7-4&oh=a844dd4731b63087ec35fe8b65a68ed0&oe=60DD79D6&_nc_sid=1fe099&ig_cache_key=MjYwMjk2MjQzODMwMTA5NTU0NA%3D%3D.2-ccb7-4', 'https://scontent-ssn1-1.cdninstagram.com/v/t51.2885-15/e35/205394012_883437688877222_5537910523563658993_n.jpg?tp=1&_nc_ht=scontent-ssn1-1.cdninstagram.com&_nc_cat=102&_nc_ohc=jSCLdJZfmosAX8xze9h&edm=AMKDjl4BAAAA&ccb=7-4&oh=ec8a0d0907aa9bd2c5261a06969e7b07&oe=60DE212E&_nc_sid=1fe099&ig_cache_key=MjYwMjk2MTA5MDU4NTY0NzYzNQ%3D%3D.2-ccb7-4', 'https://scontent-ssn1-1.cdninstagram.com/v/t51.2885-15/e35/205861884_375463834211283_4806896977155930110_n.jpg?tp=1&_nc_ht=scontent-ssn1-1.cdninstagram.com&_nc_cat=103&_nc_ohc=NPeUcqeYDOEAX8cteex&edm=AMKDjl4BAAAA&ccb=7-4&oh=c8d757b0a3a94204c21f25e51afd0225&oe=60DDE5BC&_nc_sid=1fe099&ig_cache_key=MjYwMjk2MDg1NDU4MTE4NzcxMA%3D%3D.2-ccb7-4', 'https://scontent-ssn1-1.cdninstagram.com/v/t51.2885-15/e35/206753476_4373980709314052_753012517583742965_n.jpg?tp=1&_nc_ht=scontent-ssn1-1.cdninstagram.com&_nc_cat=108&_nc_ohc=586HFNoKGO8AX_J5q8l&edm=AMKDjl4BAAAA&ccb=7-4&oh=572e5aba697a69132fbc144b0e161db8&oe=60DD871C&_nc_sid=1fe099&ig_cache_key=MjYwMjk2MDU3NjI5NzQxMjM2MA%3D%3D.2-ccb7-4', 'https://scontent-ssn1-1.cdninstagram.com/v/t51.2885-15/e35/207621935_508963076978632_5712443909128799210_n.jpg?tp=1&_nc_ht=scontent-ssn1-1.cdninstagram.com&_nc_cat=104&_nc_ohc=-75cBr1zOPkAX9UaKDE&edm=AMKDjl4BAAAA&ccb=7-4&oh=ac09059f5be8df9251f419cc32bfe6e8&oe=60DCD0E9&_nc_sid=1fe099&ig_cache_key=MjYwMjk0MTQyMjY4MTU1NjY2OA%3D%3D.2-ccb7-4', 'https://scontent-ssn1-1.cdninstagram.com/v/t51.2885-15/e35/206788198_2876373952617122_8378035651407407129_n.jpg?tp=1&_nc_ht=scontent-ssn1-1.cdninstagram.com&_nc_cat=102&_nc_ohc=5Vb-I8DCt_UAX8ug0AB&edm=AMKDjl4BAAAA&ccb=7-4&oh=4c0d480e58aff9f27c6aabbde686342e&oe=60DCC310&_nc_sid=1fe099&ig_cache_key=MjYwMjk0MDY1OTEwODU5OTA5Nw%3D%3D.2-ccb7-4', 'https://scontent-ssn1-1.cdninstagram.com/v/t51.2885-15/e35/c134.0.622.622a/206585388_138141765076988_9064519226628079237_n.jpg?tp=1&_nc_ht=scontent-ssn1-1.cdninstagram.com&_nc_cat=108&_nc_ohc=K0D098idRxAAX8154Qq&edm=AMKDjl4BAAAA&ccb=7-4&oh=4fd6d3217a83fa1a254ed02714bf0622&oe=60DD993D&_nc_sid=1fe099&ig_cache_key=MjYwMjI3MTQzMDM1NjAxMDA4NQ%3D%3D.2-ccb7-4', 'https://scontent-ssn1-1.cdninstagram.com/v/t51.2885-15/e35/119941775_181758776735658_7099193812263018918_n.jpg?tp=1&_nc_ht=scontent-ssn1-1.cdninstagram.com&_nc_cat=106&_nc_ohc=Ov2Pgl8DsroAX9pctle&edm=AMKDjl4BAAAA&ccb=7-4&oh=b7a48db9ac3d5675ac4fd12f2267172c&oe=60DC8F69&_nc_sid=1fe099&ig_cache_key=MjQwMTcyMDcxMzk2Mzk1ODc5NA%3D%3D.2-ccb7-4']\n"
     ]
    }
   ],
   "source": [
    "insta = driver.find_elements_by_xpath('//div[@class=\"KL4Bh\"]/img')\n",
    "imgs=[ele.get_attribute('src') for ele in insta]\n",
    "print(imgs)"
   ]
  },
  {
   "cell_type": "code",
   "execution_count": 28,
   "id": "f01cdc2b-1c4f-43db-93bd-6acbc71a8323",
   "metadata": {},
   "outputs": [
    {
     "name": "stdout",
     "output_type": "stream",
     "text": [
      "42\n"
     ]
    }
   ],
   "source": [
    "print(len(imgs))"
   ]
  },
  {
   "cell_type": "code",
   "execution_count": 27,
   "id": "63f9c4ec-e2b1-418e-a69e-06f19c955b79",
   "metadata": {},
   "outputs": [],
   "source": [
    "for i in range(len(imgs)):\n",
    "    img = imgs[i]\n",
    "    urllib.request.urlretrieve(img,\"./img/img\"+str(i)+\".jpg\") "
   ]
  },
  {
   "cell_type": "code",
   "execution_count": null,
   "id": "091b8436-535d-41b5-963b-b7b0501950bc",
   "metadata": {},
   "outputs": [],
   "source": []
  }
 ],
 "metadata": {
  "kernelspec": {
   "display_name": "Python 3 (ipykernel)",
   "language": "python",
   "name": "python3"
  },
  "language_info": {
   "codemirror_mode": {
    "name": "ipython",
    "version": 3
   },
   "file_extension": ".py",
   "mimetype": "text/x-python",
   "name": "python",
   "nbconvert_exporter": "python",
   "pygments_lexer": "ipython3",
   "version": "3.9.4"
  }
 },
 "nbformat": 4,
 "nbformat_minor": 5
}
